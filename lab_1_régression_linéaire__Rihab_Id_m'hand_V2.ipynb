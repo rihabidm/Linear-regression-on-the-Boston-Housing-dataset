{
  "cells": [
    {
      "cell_type": "markdown",
      "metadata": {
        "id": "view-in-github",
        "colab_type": "text"
      },
      "source": [
        "<a href=\"https://colab.research.google.com/github/rihabidm/Linear-regression-on-the-Boston-Housing-dataset/blob/master/lab_1_r%C3%A9gression_lin%C3%A9aire__Rihab_Id_m'hand_V2.ipynb\" target=\"_parent\"><img src=\"https://colab.research.google.com/assets/colab-badge.svg\" alt=\"Open In Colab\"/></a>"
      ]
    },
    {
      "cell_type": "markdown",
      "metadata": {
        "id": "r2H0XUz4peQK"
      },
      "source": [
        "# Data preprocessing"
      ]
    },
    {
      "cell_type": "markdown",
      "source": [
        "## Importing the required libraries"
      ],
      "metadata": {
        "id": "ncy_9qiqpvg-"
      }
    },
    {
      "cell_type": "code",
      "execution_count": null,
      "metadata": {
        "id": "lerRFKqjpeQS"
      },
      "outputs": [],
      "source": [
        "import pandas as pd\n",
        "import numpy as np\n",
        "import matplotlib.pyplot as plt\n",
        "from sklearn.model_selection import train_test_split\n",
        "from sklearn.linear_model import LinearRegression\n",
        "from sklearn.metrics import mean_squared_error, r2_score\n",
        "import seaborn as sns"
      ]
    },
    {
      "cell_type": "markdown",
      "metadata": {
        "id": "hLVEv4f6peQY"
      },
      "source": [
        "## Importing the csv file containing the data"
      ]
    },
    {
      "cell_type": "code",
      "execution_count": null,
      "metadata": {
        "id": "Yh5eQWdFpeQa"
      },
      "outputs": [],
      "source": [
        "df = pd.read_csv(r'C:\\Users\\Admin\\Desktop\\school\\Advanced Machine Learning\\housing.csv')"
      ]
    },
    {
      "cell_type": "markdown",
      "metadata": {
        "id": "LTLEd6wApeQc"
      },
      "source": [
        "## Exploring the housing data"
      ]
    },
    {
      "cell_type": "code",
      "execution_count": null,
      "metadata": {
        "id": "6qfoiZ5kpeQd",
        "outputId": "865d4580-bb5e-4836-bd29-6e93e3d3c010"
      },
      "outputs": [
        {
          "data": {
            "text/html": [
              "<div>\n",
              "<style scoped>\n",
              "    .dataframe tbody tr th:only-of-type {\n",
              "        vertical-align: middle;\n",
              "    }\n",
              "\n",
              "    .dataframe tbody tr th {\n",
              "        vertical-align: top;\n",
              "    }\n",
              "\n",
              "    .dataframe thead th {\n",
              "        text-align: right;\n",
              "    }\n",
              "</style>\n",
              "<table border=\"1\" class=\"dataframe\">\n",
              "  <thead>\n",
              "    <tr style=\"text-align: right;\">\n",
              "      <th></th>\n",
              "      <th>RM</th>\n",
              "      <th>LSTAT</th>\n",
              "      <th>PTRATIO</th>\n",
              "      <th>MEDV</th>\n",
              "    </tr>\n",
              "  </thead>\n",
              "  <tbody>\n",
              "    <tr>\n",
              "      <th>0</th>\n",
              "      <td>6.575</td>\n",
              "      <td>4.98</td>\n",
              "      <td>15.3</td>\n",
              "      <td>504000.0</td>\n",
              "    </tr>\n",
              "    <tr>\n",
              "      <th>1</th>\n",
              "      <td>6.421</td>\n",
              "      <td>9.14</td>\n",
              "      <td>17.8</td>\n",
              "      <td>453600.0</td>\n",
              "    </tr>\n",
              "    <tr>\n",
              "      <th>2</th>\n",
              "      <td>7.185</td>\n",
              "      <td>4.03</td>\n",
              "      <td>17.8</td>\n",
              "      <td>728700.0</td>\n",
              "    </tr>\n",
              "    <tr>\n",
              "      <th>3</th>\n",
              "      <td>6.998</td>\n",
              "      <td>2.94</td>\n",
              "      <td>18.7</td>\n",
              "      <td>701400.0</td>\n",
              "    </tr>\n",
              "    <tr>\n",
              "      <th>4</th>\n",
              "      <td>7.147</td>\n",
              "      <td>5.33</td>\n",
              "      <td>18.7</td>\n",
              "      <td>760200.0</td>\n",
              "    </tr>\n",
              "  </tbody>\n",
              "</table>\n",
              "</div>"
            ],
            "text/plain": [
              "      RM  LSTAT  PTRATIO      MEDV\n",
              "0  6.575   4.98     15.3  504000.0\n",
              "1  6.421   9.14     17.8  453600.0\n",
              "2  7.185   4.03     17.8  728700.0\n",
              "3  6.998   2.94     18.7  701400.0\n",
              "4  7.147   5.33     18.7  760200.0"
            ]
          },
          "execution_count": 3,
          "metadata": {},
          "output_type": "execute_result"
        }
      ],
      "source": [
        "df.head()"
      ]
    },
    {
      "cell_type": "code",
      "execution_count": null,
      "metadata": {
        "id": "EzkldJf5peQh",
        "outputId": "462c1af9-aa5e-4521-a041-50de439f12ff"
      },
      "outputs": [
        {
          "name": "stdout",
          "output_type": "stream",
          "text": [
            "<class 'pandas.core.frame.DataFrame'>\n",
            "RangeIndex: 489 entries, 0 to 488\n",
            "Data columns (total 4 columns):\n",
            " #   Column   Non-Null Count  Dtype  \n",
            "---  ------   --------------  -----  \n",
            " 0   RM       489 non-null    float64\n",
            " 1   LSTAT    489 non-null    float64\n",
            " 2   PTRATIO  489 non-null    float64\n",
            " 3   MEDV     489 non-null    float64\n",
            "dtypes: float64(4)\n",
            "memory usage: 15.4 KB\n"
          ]
        }
      ],
      "source": [
        "df.info()"
      ]
    },
    {
      "cell_type": "code",
      "execution_count": null,
      "metadata": {
        "id": "ltDvG9w1peQj",
        "outputId": "b40fbe6e-68d4-4fab-837f-42c309aa49da"
      },
      "outputs": [
        {
          "data": {
            "text/html": [
              "<div>\n",
              "<style scoped>\n",
              "    .dataframe tbody tr th:only-of-type {\n",
              "        vertical-align: middle;\n",
              "    }\n",
              "\n",
              "    .dataframe tbody tr th {\n",
              "        vertical-align: top;\n",
              "    }\n",
              "\n",
              "    .dataframe thead th {\n",
              "        text-align: right;\n",
              "    }\n",
              "</style>\n",
              "<table border=\"1\" class=\"dataframe\">\n",
              "  <thead>\n",
              "    <tr style=\"text-align: right;\">\n",
              "      <th></th>\n",
              "      <th>RM</th>\n",
              "      <th>LSTAT</th>\n",
              "      <th>PTRATIO</th>\n",
              "      <th>MEDV</th>\n",
              "    </tr>\n",
              "  </thead>\n",
              "  <tbody>\n",
              "    <tr>\n",
              "      <th>count</th>\n",
              "      <td>489.000000</td>\n",
              "      <td>489.000000</td>\n",
              "      <td>489.000000</td>\n",
              "      <td>4.890000e+02</td>\n",
              "    </tr>\n",
              "    <tr>\n",
              "      <th>mean</th>\n",
              "      <td>6.240288</td>\n",
              "      <td>12.939632</td>\n",
              "      <td>18.516564</td>\n",
              "      <td>4.543429e+05</td>\n",
              "    </tr>\n",
              "    <tr>\n",
              "      <th>std</th>\n",
              "      <td>0.643650</td>\n",
              "      <td>7.081990</td>\n",
              "      <td>2.111268</td>\n",
              "      <td>1.653403e+05</td>\n",
              "    </tr>\n",
              "    <tr>\n",
              "      <th>min</th>\n",
              "      <td>3.561000</td>\n",
              "      <td>1.980000</td>\n",
              "      <td>12.600000</td>\n",
              "      <td>1.050000e+05</td>\n",
              "    </tr>\n",
              "    <tr>\n",
              "      <th>25%</th>\n",
              "      <td>5.880000</td>\n",
              "      <td>7.370000</td>\n",
              "      <td>17.400000</td>\n",
              "      <td>3.507000e+05</td>\n",
              "    </tr>\n",
              "    <tr>\n",
              "      <th>50%</th>\n",
              "      <td>6.185000</td>\n",
              "      <td>11.690000</td>\n",
              "      <td>19.100000</td>\n",
              "      <td>4.389000e+05</td>\n",
              "    </tr>\n",
              "    <tr>\n",
              "      <th>75%</th>\n",
              "      <td>6.575000</td>\n",
              "      <td>17.120000</td>\n",
              "      <td>20.200000</td>\n",
              "      <td>5.187000e+05</td>\n",
              "    </tr>\n",
              "    <tr>\n",
              "      <th>max</th>\n",
              "      <td>8.398000</td>\n",
              "      <td>37.970000</td>\n",
              "      <td>22.000000</td>\n",
              "      <td>1.024800e+06</td>\n",
              "    </tr>\n",
              "  </tbody>\n",
              "</table>\n",
              "</div>"
            ],
            "text/plain": [
              "               RM       LSTAT     PTRATIO          MEDV\n",
              "count  489.000000  489.000000  489.000000  4.890000e+02\n",
              "mean     6.240288   12.939632   18.516564  4.543429e+05\n",
              "std      0.643650    7.081990    2.111268  1.653403e+05\n",
              "min      3.561000    1.980000   12.600000  1.050000e+05\n",
              "25%      5.880000    7.370000   17.400000  3.507000e+05\n",
              "50%      6.185000   11.690000   19.100000  4.389000e+05\n",
              "75%      6.575000   17.120000   20.200000  5.187000e+05\n",
              "max      8.398000   37.970000   22.000000  1.024800e+06"
            ]
          },
          "execution_count": 8,
          "metadata": {},
          "output_type": "execute_result"
        }
      ],
      "source": [
        "df.describe()"
      ]
    },
    {
      "cell_type": "markdown",
      "metadata": {
        "id": "eNo_W-oVpeQl"
      },
      "source": [
        "## Exploring the percentage of outliers for each variable"
      ]
    },
    {
      "cell_type": "code",
      "execution_count": null,
      "metadata": {
        "id": "ZauoLf-TpeQm",
        "outputId": "0d32c3c9-4e5e-418f-843d-f3bff9c820f7"
      },
      "outputs": [
        {
          "name": "stdout",
          "output_type": "stream",
          "text": [
            "Column RM outliers = 4.50%\n",
            "Column LSTAT outliers = 1.43%\n",
            "Column PTRATIO outliers = 2.66%\n",
            "Column MEDV outliers = 4.50%\n"
          ]
        }
      ],
      "source": [
        "for k, v in df.items():\n",
        "    q1 = v.quantile(0.25)\n",
        "    q3 = v.quantile(0.75)\n",
        "    irq = q3 - q1\n",
        "    v_col = v[(v <= q1 - 1.5 * irq) | (v >= q3 + 1.5 * irq)]\n",
        "    perc = np.shape(v_col)[0] * 100.0 / np.shape(df)[0]\n",
        "    print(\"Column %s outliers = %.2f%%\" % (k, perc))\n",
        ""
      ]
    },
    {
      "cell_type": "markdown",
      "source": [
        "# Data processing"
      ],
      "metadata": {
        "id": "n1G5VvZLp6b4"
      }
    },
    {
      "cell_type": "markdown",
      "metadata": {
        "id": "aso1xXlFpeQo"
      },
      "source": [
        "## A scatter plot between the variables MEDV and RM"
      ]
    },
    {
      "cell_type": "code",
      "execution_count": null,
      "metadata": {
        "id": "Yw5XxBQRpeQp",
        "outputId": "1d8f533c-8db5-4054-f7c1-c0b6c2545f7e"
      },
      "outputs": [
        {
          "data": {
            "image/png": "[encoded data removed]",
            "text/plain": [
              "<Figure size 576x432 with 1 Axes>"
            ]
          },
          "metadata": {
            "needs_background": "light"
          },
          "output_type": "display_data"
        }
      ],
      "source": [
        "plt.figure(figsize=(8, 6))\n",
        "plt.scatter(df['RM'], df['MEDV'], color='blue')\n",
        "plt.title('Scatter Plot of MEDV vs RM')\n",
        "plt.xlabel('RM')\n",
        "plt.ylabel('MEDV')\n",
        "plt.grid(True)\n",
        "plt.show()"
      ]
    },
    {
      "cell_type": "markdown",
      "metadata": {
        "id": "3lyEEu2mpeQp"
      },
      "source": [
        "The variables we'll use to predict MEDV are RM and then LSTAT, which are the most correlated variables wit MEDV."
      ]
    },
    {
      "cell_type": "code",
      "execution_count": null,
      "metadata": {
        "id": "SweiS06UpeQq",
        "outputId": "0e4e139f-57e0-4684-e23c-f68bead5b470"
      },
      "outputs": [
        {
          "data": {
            "text/plain": [
              "<matplotlib.axes._subplots.AxesSubplot at 0x15235051f70>"
            ]
          },
          "execution_count": 57,
          "metadata": {},
          "output_type": "execute_result"
        },
        {
          "data": {
            "image/png": "[encoded data removed]",
            "text/plain": [
              "<Figure size 432x288 with 2 Axes>"
            ]
          },
          "metadata": {
            "needs_background": "light"
          },
          "output_type": "display_data"
        }
      ],
      "source": [
        "plt.figure()\n",
        "sns.heatmap(df.corr().abs(), annot = True)"
      ]
    },
    {
      "cell_type": "markdown",
      "metadata": {
        "id": "NyiCEG8speQr"
      },
      "source": [
        "## Splitting the data for training"
      ]
    },
    {
      "cell_type": "code",
      "execution_count": null,
      "metadata": {
        "id": "0GCPQjJUpeQs",
        "outputId": "eab3117b-f3e6-4333-97f8-fd65d0ff0f86"
      },
      "outputs": [
        {
          "data": {
            "text/plain": [
              "[        RM  LSTAT  PTRATIO      MEDV\n",
              " 329  5.968   9.29     20.2  392700.0\n",
              " 103  6.137  13.44     20.9  405300.0\n",
              " 435  6.297  17.27     20.2  338100.0\n",
              " 271  6.968   4.59     14.9  743400.0\n",
              " 20   5.570  21.02     21.0  285600.0\n",
              " ..     ...    ...      ...       ...\n",
              " 148  5.186  28.32     14.7  373800.0\n",
              " 202  5.344  23.09     18.6  420000.0\n",
              " 186  6.739   4.69     15.2  640500.0\n",
              " 331  6.540   8.65     15.9  346500.0\n",
              " 403  6.411  15.02     20.2  350700.0\n",
              " \n",
              " [366 rows x 4 columns],\n",
              "         RM  LSTAT  PTRATIO       MEDV\n",
              " 383  5.987  26.77     20.2   117600.0\n",
              " 154  6.129  15.12     14.7   357000.0\n",
              " 386  5.349  19.77     20.2   174300.0\n",
              " 352  5.803  14.64     20.2   352800.0\n",
              " 75   6.286   8.94     18.7   449400.0\n",
              " ..     ...    ...      ...        ...\n",
              " 94   6.249  10.59     18.2   432600.0\n",
              " 225  8.247   3.95     17.4  1014300.0\n",
              " 293  7.236   6.93     18.4   758100.0\n",
              " 378  6.471  17.12     20.2   275100.0\n",
              " 325  5.869   9.80     20.2   409500.0\n",
              " \n",
              " [123 rows x 4 columns]]"
            ]
          },
          "execution_count": 13,
          "metadata": {},
          "output_type": "execute_result"
        }
      ],
      "source": [
        "train_test_split(df)"
      ]
    },
    {
      "cell_type": "code",
      "execution_count": null,
      "metadata": {
        "id": "ptazzTMhpeQt"
      },
      "outputs": [],
      "source": [
        "x_train, x_test, y_train, y_test = train_test_split(np.array(df['RM']), np.array(df['MEDV']), test_size=0.2, random_state=365)"
      ]
    },
    {
      "cell_type": "code",
      "execution_count": null,
      "metadata": {
        "id": "5tShZIMCpeQu",
        "outputId": "e07218dd-504a-4940-88df-95050cb3cc25"
      },
      "outputs": [
        {
          "data": {
            "text/plain": [
              "((391,), (98,))"
            ]
          },
          "execution_count": 31,
          "metadata": {},
          "output_type": "execute_result"
        }
      ],
      "source": [
        "x_train.shape, x_test.shape"
      ]
    },
    {
      "cell_type": "code",
      "execution_count": null,
      "metadata": {
        "id": "GLC0Zr5tpeQv",
        "outputId": "4498d6ee-7f08-4a29-9d3b-678cc43ff05e"
      },
      "outputs": [
        {
          "data": {
            "text/plain": [
              "((391,), (98,))"
            ]
          },
          "execution_count": 32,
          "metadata": {},
          "output_type": "execute_result"
        }
      ],
      "source": [
        "y_train.shape, y_test.shape"
      ]
    },
    {
      "cell_type": "code",
      "execution_count": null,
      "metadata": {
        "id": "BrhwC19kpeQx",
        "outputId": "34ed439b-3ab7-4514-e1d9-98a135fe8c3b"
      },
      "outputs": [
        {
          "data": {
            "text/plain": [
              "array([6.43 , 6.121, 5.709, 5.57 , 7.412, 5.602, 6.164, 5.617, 6.812,\n",
              "       4.926, 6.727, 6.75 , 6.701, 6.842, 5.952, 6.389, 5.949, 6.254,\n",
              "       6.086, 6.794, 6.606, 5.869, 5.572, 5.983, 6.411, 5.924, 5.67 ,\n",
              "       6.98 , 6.657, 6.358, 5.887, 6.833, 6.546, 6.167, 6.426, 6.897,\n",
              "       5.093, 6.398, 6.437, 6.471, 6.728, 5.412, 5.569, 5.92 , 5.852,\n",
              "       7.416, 5.707, 6.021, 6.273, 6.54 , 6.115, 5.88 , 5.427, 7.007,\n",
              "       6.376, 6.434, 5.019, 6.538, 6.172, 6.718, 6.749, 6.728, 6.266,\n",
              "       6.185, 5.648, 6.629, 5.637, 6.631, 5.856, 5.39 , 5.762, 6.739,\n",
              "       5.731, 6.38 , 6.461, 6.417, 6.976, 6.015, 5.787, 6.163, 6.849,\n",
              "       6.758, 6.031, 6.382, 8.337, 6.009, 6.113, 6.975, 6.59 , 5.349,\n",
              "       6.23 , 6.484, 5.663, 6.041, 6.348, 5.963, 6.037, 4.138, 5.898,\n",
              "       7.241, 6.003, 5.599, 6.006, 7.645, 6.86 , 5.936, 5.987, 5.914,\n",
              "       5.713, 5.926, 5.942, 7.014, 5.972, 5.631, 7.454, 6.474, 4.963,\n",
              "       6.595, 6.968, 6.02 , 5.95 , 5.961, 6.63 , 6.312, 6.229, 5.885,\n",
              "       6.38 , 6.727, 7.088, 5.935, 5.928, 6.545, 5.757, 6.122, 6.715,\n",
              "       6.565, 6.014, 5.277, 5.854, 8.04 , 6.047, 7.155, 6.678, 6.03 ,\n",
              "       7.327, 5.456, 6.373, 6.211, 5.453, 5.983, 8.398, 6.066, 6.108,\n",
              "       6.458, 5.701, 7.333, 4.628, 5.414, 5.536, 4.88 , 5.879, 7.47 ,\n",
              "       5.628, 6.516, 5.856, 7.178, 5.79 , 4.973, 5.783, 7.079, 5.594,\n",
              "       6.824, 6.781, 5.682, 6.436, 6.968, 7.82 , 6.549, 5.891, 6.232,\n",
              "       5.985, 6.31 , 5.403, 6.072, 5.759, 6.625, 6.454, 5.872, 5.683,\n",
              "       7.104, 7.024, 5.747, 6.431, 6.425, 6.317, 7.147, 5.981, 5.741,\n",
              "       4.652, 6.406, 6.059, 6.122, 6.395, 6.208, 6.404, 6.341, 6.127,\n",
              "       5.836, 6.065, 5.727, 5.888, 6.372, 6.25 , 6.145, 5.884, 6.854,\n",
              "       5.859, 6.101, 6.619, 7.148, 6.326, 6.642, 6.083, 6.649, 5.304,\n",
              "       7.358, 6.112, 8.266, 6.383, 6.405, 6.375, 5.706, 6.852, 6.345,\n",
              "       5.857, 5.705, 6.103, 6.556, 7.853, 6.167, 5.597, 6.092, 6.951,\n",
              "       6.674, 7.041, 7.82 , 5.593, 6.14 , 6.127, 5.976, 6.816, 3.561,\n",
              "       6.095, 6.152, 6.251, 6.593, 5.627, 6.782, 5.782, 5.877, 6.826,\n",
              "       5.713, 5.935, 6.069, 6.433, 6.513, 6.03 , 6.874, 6.567, 7.765,\n",
              "       6.212, 5.565, 6.402, 6.209, 6.98 , 5.951, 6.319, 5.85 , 6.219,\n",
              "       5.933, 6.511, 6.004, 5.036, 6.696, 6.957, 7.267, 6.023, 7.42 ,\n",
              "       7.206, 6.245, 7.691, 5.966, 6.482, 5.713, 6.77 , 6.051, 7.185,\n",
              "       6.153, 5.   , 6.51 , 6.343, 6.335, 6.195, 6.29 , 5.896, 6.167,\n",
              "       6.108, 5.875, 6.019, 6.485, 5.813, 6.315, 6.943, 6.096, 6.563,\n",
              "       6.027, 6.416, 6.376, 7.236, 5.895, 6.004, 6.377, 6.144, 6.182,\n",
              "       6.579, 6.226, 6.421, 4.903, 5.794, 6.229, 6.794, 5.834, 6.326,\n",
              "       6.951, 7.061, 6.12 , 6.616, 6.879, 6.315, 7.686, 6.142, 5.868,\n",
              "       6.13 , 5.786, 6.552, 6.525, 5.837, 5.807, 7.52 , 6.405, 6.312,\n",
              "       4.368, 6.453, 6.417, 6.762, 6.655, 6.438, 7.287, 4.906, 6.442,\n",
              "       6.618, 7.274, 6.193, 6.151, 6.223, 6.185, 5.876, 6.174, 5.854,\n",
              "       6.162, 5.613, 5.454, 5.693, 5.818, 6.998, 5.362, 3.863, 6.495,\n",
              "       5.399, 6.982, 5.708, 6.129, 5.968, 6.487, 6.726, 6.24 , 6.459,\n",
              "       6.127, 6.871, 5.604, 6.302])"
            ]
          },
          "execution_count": 33,
          "metadata": {},
          "output_type": "execute_result"
        }
      ],
      "source": [
        "x_train"
      ]
    },
    {
      "cell_type": "code",
      "execution_count": null,
      "metadata": {
        "id": "p4BHxmUypeQy",
        "outputId": "c64ea5f9-fc0e-42f0-8966-75a273203b11"
      },
      "outputs": [
        {
          "data": {
            "text/plain": [
              "array([5.888, 5.822, 6.481, 5.841, 5.926, 5.961, 6.575, 6.144, 6.49 ,\n",
              "       6.63 , 6.242, 5.39 , 5.871, 7.249, 5.905, 5.878, 5.155, 6.301,\n",
              "       6.393, 6.202, 8.259, 5.344, 5.986, 6.456, 6.114, 5.608, 6.495,\n",
              "       5.99 , 7.185, 5.272, 5.404, 5.965, 6.169, 6.229, 7.61 , 6.297,\n",
              "       5.404, 7.163, 4.138, 6.8  , 6.782, 6.251, 5.757, 6.064, 6.193,\n",
              "       8.069, 6.286, 5.813, 6.415, 7.393, 6.137, 5.012, 6.162, 8.247,\n",
              "       7.203, 5.304, 6.152, 5.803, 6.405, 6.431, 6.081, 6.012, 5.936,\n",
              "       5.913, 5.874, 5.56 , 5.927, 7.313, 6.249, 6.604, 6.635, 5.966,\n",
              "       5.957, 6.635, 7.107, 6.333, 5.186, 5.87 , 5.52 , 6.009, 6.316,\n",
              "       6.211, 6.939, 6.096, 6.861, 5.889, 5.605, 6.176, 5.468, 6.417,\n",
              "       4.519, 5.998, 5.851, 6.209, 6.279, 5.531, 7.135, 5.96 ])"
            ]
          },
          "execution_count": 34,
          "metadata": {},
          "output_type": "execute_result"
        }
      ],
      "source": [
        "x_test"
      ]
    },
    {
      "cell_type": "code",
      "execution_count": null,
      "metadata": {
        "id": "xph19xuPpeQz",
        "outputId": "b3a3e61f-1777-4f01-f10d-c5b0cd4a0097"
      },
      "outputs": [
        {
          "data": {
            "text/plain": [
              "array([ 602700.,  466200.,  407400.,  285600.,  665700.,  407400.,\n",
              "        455700.,  361200.,  737100.,  306600.,  588000.,  497700.,\n",
              "        344400.,  632100.,  399000.,  501900.,  428400.,  388500.,\n",
              "        504000.,  462000.,  489300.,  409500.,  485100.,  285600.,\n",
              "        350700.,  327600.,  485100.,  781200.,  361200.,  466200.,\n",
              "        266700.,  296100.,  617400.,  422100.,  499800.,  462000.,\n",
              "        170100.,  525000.,  487200.,  275100.,  632100.,  497700.,\n",
              "        367500.,  434700.,  132300.,  697200.,  457800.,  403200.,\n",
              "        506100.,  346500.,  430500.,  401100.,  289800.,  495600.,\n",
              "        371700.,  151200.,  302400.,  512400.,  569100.,  550200.,\n",
              "        281400.,  312900.,  453600.,  296100.,  436800.,  281400.,\n",
              "        300300.,  527100.,  443100.,  241500.,  457800.,  640500.,\n",
              "        405300.,  275100.,  201600.,  474600.,  501900.,  472500.,\n",
              "        407400.,  449400.,  592200.,  680400.,  407400.,  485100.,\n",
              "        875700.,  455700.,  441000.,  732900.,  462000.,  174300.,\n",
              "        422100.,  350700.,  382200.,  428400.,  304500.,  413700.,\n",
              "        443100.,  249900.,  361200.,  686700.,  401100.,  291900.,\n",
              "        298200.,  966000.,  627900.,  283500.,  117600.,  373800.,\n",
              "        422100.,  401100.,  365400.,  644700.,  426300.,  346500.,\n",
              "        924000.,  415800.,  459900.,  646800.,  218400.,  487200.,\n",
              "        277200.,  430500.,  558600.,  445200.,  407400.,  438900.,\n",
              "        199500.,  577500.,  676200.,  176400.,  384300.,  228900.,\n",
              "        315000.,  451500.,  478800.,  520800.,  367500.,  151200.,\n",
              "        476700.,  789600.,  310800.,  795900.,  600600.,  348600.,\n",
              "        651000.,  424200.,  483000.,  525000.,  105000.,  422100.,\n",
              "       1024800.,  510300.,  510300.,  403200.,  275100.,  756000.,\n",
              "        375900.,  147000.,  237300.,  214200.,  394800.,  913500.,\n",
              "        327600.,  485100.,  363300.,  764400.,  426300.,  338100.,\n",
              "        472500.,  602700.,  365400.,  176400.,  556500.,  405300.,\n",
              "        300300.,  743400.,  919800.,  569100.,  474600.,  445200.,\n",
              "        399000.,  434700.,  281400.,  304500.,  417900.,  596400.,\n",
              "        359100.,  428400.,  105000.,  693000.,  732900.,  178500.,\n",
              "        516600.,  338100.,  409500.,  760200.,  510300.,  392700.,\n",
              "        220500.,  359100.,  432600.,  464100.,  455700.,  245700.,\n",
              "        254100.,  312900.,  501900.,  409500.,  478800.,  382200.,\n",
              "        396900.,  483000.,  567000.,  489300.,  390600.,  672000.,\n",
              "        474600.,  525000.,  501900.,  783300.,  512400.,  602700.,\n",
              "        466200.,  291900.,  252000.,  661500.,  474600.,  940800.,\n",
              "        518700.,  462000.,  590100.,  359100.,  577500.,  472500.,\n",
              "        279300.,  340200.,  281400.,  625800., 1018500.,  417900.,\n",
              "        323400.,  392700.,  777000.,  441000.,  609000.,  953400.,\n",
              "        369600.,  436800.,  428400.,  266700.,  663600.,  577500.,\n",
              "        422100.,  182700.,  264600.,  470400.,  268800.,  672000.,\n",
              "        415800.,  499800.,  695100.,  317100.,  485100.,  445200.,\n",
              "        514500.,  424200.,  249900.,  655200.,  499800.,  835800.,\n",
              "        373800.,  245700.,  468300.,  449400.,  625800.,  451500.,\n",
              "        499800.,  441000.,  386400.,  396900.,  525000.,  396900.,\n",
              "        203700.,  501900.,  621600.,  697200.,  407400.,  701400.,\n",
              "        766500.,  491400.,  739200.,  336000.,  611100.,  266700.,\n",
              "        558600.,  487200.,  728700.,  621600.,  155400.,  489300.,\n",
              "        151200.,  380100.,  455700.,  493500.,  174300.,  480900.,\n",
              "        459900.,  365400.,  445200.,  323400.,  304500.,  516600.,\n",
              "        867300.,  283500.,  682500.,  352800.,  495600.,  485100.,\n",
              "        758100.,  388500.,  426300.,  315000.,  415800.,  525000.,\n",
              "        506100.,  430500.,  453600.,  247800.,  384300.,  449400.,\n",
              "        279300.,  417900.,  411600.,  560700.,  525000.,  432600.,\n",
              "        596400.,  577500.,  468300.,  980700.,  319200.,  405300.,\n",
              "        289800.,  420000.,  661500.,  296100.,  214200.,  470400.,\n",
              "        905100.,  390600.,  483000.,  184800.,  462000.,  508200.,\n",
              "        525000.,  319200.,  520800.,  699300.,  289800.,  480900.,\n",
              "        632100.,  726600.,  231000.,  373800.,  214200.,  306600.,\n",
              "        438900.,  294000.,  226800.,  279300.,  329700.,  319200.,\n",
              "        340200.,  220500.,  701400.,  436800.,  485100.,  386400.,\n",
              "        302400.,  695100.,  388500.,  357000.,  392700.,  512400.,\n",
              "        609000.,  529200.,  247800.,  476700.,  520800.,  554400.,\n",
              "        520800.])"
            ]
          },
          "execution_count": 35,
          "metadata": {},
          "output_type": "execute_result"
        }
      ],
      "source": [
        "y_train"
      ]
    },
    {
      "cell_type": "code",
      "execution_count": null,
      "metadata": {
        "id": "BTdsKg-zpeQ0",
        "outputId": "035d2731-60ee-4596-b83d-dd27c35a19a7"
      },
      "outputs": [
        {
          "data": {
            "text/plain": [
              "array([ 489300.,  386400.,  497700.,  420000.,  514500.,  455700.,\n",
              "        504000.,  760200.,  480900.,  585900.,  483000.,  413700.,\n",
              "        432600.,  743400.,  432600.,  462000.,  342300.,  312900.,\n",
              "        497700.,  228900.,  898800.,  420000.,  449400.,  466200.,\n",
              "        401100.,  585900.,  554400.,  367500.,  732900.,  275100.,\n",
              "        405300.,  411600.,  531300.,  411600.,  888300.,  338100.,\n",
              "        411600.,  663600.,  289800.,  653100.,  157500.,  417900.,\n",
              "        327600.,  512400.,  289800.,  812700.,  449400.,  348600.,\n",
              "        525000.,  373800.,  405300.,  321300.,  506100., 1014300.,\n",
              "        709800.,  218400.,  327600.,  352800.,  262500.,  378000.,\n",
              "        420000.,  480900.,  432600.,  394800.,  426300.,  478800.,\n",
              "        411600.,  315000.,  432600.,  611100.,  478800.,  518700.,\n",
              "        184800.,  514500.,  636300.,  474600.,  373800.,  462000.,\n",
              "        258300.,  396900.,  466200.,  518700.,  558600.,  382200.,\n",
              "        598500.,  455700.,  388500.,  445200.,  327600.,  273000.,\n",
              "        147000.,  491400.,  409500.,  487200.,  420000.,  178500.,\n",
              "        690900.,  455700.])"
            ]
          },
          "execution_count": 36,
          "metadata": {},
          "output_type": "execute_result"
        }
      ],
      "source": [
        "y_test"
      ]
    },
    {
      "cell_type": "code",
      "execution_count": null,
      "metadata": {
        "id": "gKZzdHFqpeQ1"
      },
      "outputs": [],
      "source": [
        "Creating a simple linear regression model using the imported library"
      ]
    },
    {
      "cell_type": "code",
      "execution_count": null,
      "metadata": {
        "id": "Qb1yTKfbpeQ2"
      },
      "outputs": [],
      "source": [
        "model = LinearRegression()"
      ]
    },
    {
      "cell_type": "code",
      "execution_count": null,
      "metadata": {
        "id": "2uDGZsz5peQ2"
      },
      "outputs": [],
      "source": [
        "Training the model"
      ]
    },
    {
      "cell_type": "code",
      "execution_count": null,
      "metadata": {
        "id": "MwV3OIhcpeQ3",
        "outputId": "0851d497-a2bd-4d0f-f84e-670c80966173"
      },
      "outputs": [
        {
          "data": {
            "text/plain": [
              "LinearRegression()"
            ]
          },
          "execution_count": 38,
          "metadata": {},
          "output_type": "execute_result"
        }
      ],
      "source": [
        "x_train = x_train.reshape(-1, 1)\n",
        "y_train = y_train.reshape(-1, 1)\n",
        "model.fit(x_train, y_train)"
      ]
    },
    {
      "cell_type": "markdown",
      "metadata": {
        "id": "7KsuNQvgpeQ4"
      },
      "source": [
        "# Making predictions on the testing set using RM"
      ]
    },
    {
      "cell_type": "code",
      "execution_count": null,
      "metadata": {
        "id": "0g03ZQewpeQ5"
      },
      "outputs": [],
      "source": [
        "y_pred = model.predict(x_test.reshape(-1, 1))"
      ]
    },
    {
      "cell_type": "markdown",
      "metadata": {
        "id": "opZ7BcxEpeQ5"
      },
      "source": [
        "## Visualizing the performance indicators for the model for the variable RM"
      ]
    },
    {
      "cell_type": "code",
      "execution_count": null,
      "metadata": {
        "id": "2RquPKmFpeQ6",
        "outputId": "5aaa0ff4-4144-4892-ca02-c02bd55d2d13"
      },
      "outputs": [
        {
          "name": "stdout",
          "output_type": "stream",
          "text": [
            "Mean Squared Error (MSE): 12895128896.791357\n"
          ]
        }
      ],
      "source": [
        "mse = mean_squared_error(y_test, y_pred)\n",
        "print(\"Mean Squared Error (MSE):\", mse)"
      ]
    },
    {
      "cell_type": "code",
      "execution_count": null,
      "metadata": {
        "id": "mOCUcyTdpeQ7",
        "outputId": "bc8b9f20-b753-4d12-ea51-b99c5e550bbb"
      },
      "outputs": [
        {
          "name": "stdout",
          "output_type": "stream",
          "text": [
            "Root Mean Squared Error (RMSE): 113556.72105512451\n"
          ]
        }
      ],
      "source": [
        "rmse = np.sqrt(mse)\n",
        "print(\"Root Mean Squared Error (RMSE):\", rmse)"
      ]
    },
    {
      "cell_type": "code",
      "execution_count": null,
      "metadata": {
        "id": "7c6SRH8DpeQ8",
        "outputId": "7ba819be-2164-439f-d851-7e7f14c75053"
      },
      "outputs": [
        {
          "name": "stdout",
          "output_type": "stream",
          "text": [
            "R-squared score: 0.45697500126872803\n"
          ]
        }
      ],
      "source": [
        "r2 = r2_score(y_test, y_pred)\n",
        "print(\"R-squared score:\", r2)"
      ]
    },
    {
      "cell_type": "markdown",
      "metadata": {
        "id": "UUlpa17lpeQ9"
      },
      "source": [
        "The R-squared score is relatively low for this model"
      ]
    },
    {
      "cell_type": "code",
      "execution_count": null,
      "metadata": {
        "id": "gU_tLT4NpeQ-",
        "outputId": "dc98f49a-f6d4-4122-e5c4-ee18efb5011d"
      },
      "outputs": [
        {
          "name": "stdout",
          "output_type": "stream",
          "text": [
            "Intercept: [-708766.87030782]\n",
            "Coefficients: [[185909.80376607]]\n"
          ]
        }
      ],
      "source": [
        "# Printing the intercept and coefficients (slope)\n",
        "print(\"Intercept:\", model.intercept_)\n",
        "print(\"Coefficients:\", model.coef_)"
      ]
    },
    {
      "cell_type": "markdown",
      "metadata": {
        "id": "7KamDK4opeQ_"
      },
      "source": [
        "## Creating a line plot to visualize the relationship between the dependent variable (MEDV) and the independent variable (RM) along with the predicted values from the model."
      ]
    },
    {
      "cell_type": "code",
      "execution_count": null,
      "metadata": {
        "id": "bG0RmFeWpeQ_",
        "outputId": "3a97cb32-1fd3-4570-97b4-e34e4f4ac7b8"
      },
      "outputs": [
        {
          "data": {
            "image/png": "[encoded data removed]",
            "text/plain": [
              "<Figure size 432x288 with 1 Axes>"
            ]
          },
          "metadata": {
            "needs_background": "light"
          },
          "output_type": "display_data"
        }
      ],
      "source": [
        "X_test_sorted = np.sort(x_test.reshape(-1, 1), axis=0)\n",
        "y_pred_sorted = model.predict(X_test_sorted)\n",
        "\n",
        "# Plotting the actual values\n",
        "plt.scatter(x_test, y_test, color='blue', label='Actual')\n",
        "\n",
        "# Plotting the predicted values\n",
        "plt.plot(X_test_sorted, y_pred_sorted, color='red', label='Predicted')\n",
        "\n",
        "# Adding labels and title\n",
        "plt.title('Relationship between MEDV and RM with Predicted Values')\n",
        "plt.xlabel('RM (Average Number of Rooms)')\n",
        "plt.ylabel('MEDV (Median Value of Homes)')\n",
        "plt.legend()\n",
        "\n",
        "# Display the plot\n",
        "plt.show()"
      ]
    },
    {
      "cell_type": "markdown",
      "metadata": {
        "id": "rmoeGiObpeRB"
      },
      "source": [
        "# Making predictions on the testing set using LSTAT\n"
      ]
    },
    {
      "cell_type": "code",
      "execution_count": null,
      "metadata": {
        "id": "Hd69tg9mpeRB",
        "outputId": "bee6389a-8577-4fe2-dbf2-84874cb92f42"
      },
      "outputs": [
        {
          "data": {
            "image/png": "[encoded data removed]",
            "text/plain": [
              "<Figure size 576x432 with 1 Axes>"
            ]
          },
          "metadata": {
            "needs_background": "light"
          },
          "output_type": "display_data"
        }
      ],
      "source": [
        "plt.figure(figsize=(8, 6))\n",
        "plt.scatter(df['LSTAT'], df['MEDV'], color='green')\n",
        "plt.title('Scatter Plot of MEDV vs LSTAT')\n",
        "plt.xlabel('LSTAT')\n",
        "plt.ylabel('MEDV')\n",
        "plt.grid(True)\n",
        "plt.show()"
      ]
    },
    {
      "cell_type": "code",
      "execution_count": null,
      "metadata": {
        "id": "t8DRX-SBpeRD"
      },
      "outputs": [],
      "source": [
        "x_train, x_test, y_train, y_test = train_test_split(np.array(df['LSTAT']), np.array(df['MEDV']), test_size=0.2, random_state=365)"
      ]
    },
    {
      "cell_type": "code",
      "execution_count": null,
      "metadata": {
        "id": "5fVVBhmLpeRD",
        "outputId": "631a5651-9baa-44ec-bbec-7c2b1f541d3b"
      },
      "outputs": [
        {
          "data": {
            "text/plain": [
              "array([ 5.21,  8.44, 15.79, 21.02,  5.25, 16.2 , 21.46, 26.4 ,  4.85,\n",
              "       29.53,  5.29,  7.74, 16.42,  6.9 , 17.15,  9.62,  8.26, 10.45,\n",
              "       10.88,  6.48,  7.37,  9.8 , 14.69, 18.07, 15.02, 16.3 , 17.6 ,\n",
              "        5.04, 21.22, 11.22, 16.35, 19.69,  5.33, 12.33,  7.2 , 11.38,\n",
              "       29.68,  7.79, 14.36, 17.12,  4.5 , 29.55, 15.1 , 13.65, 29.97,\n",
              "        6.19, 12.01, 10.3 ,  6.78,  8.65,  9.43, 12.03, 18.14,  5.5 ,\n",
              "       14.65, 29.05, 34.41,  7.73, 19.15,  6.56, 17.44, 18.71,  7.9 ,\n",
              "       18.13, 14.1 , 23.27, 18.34,  9.54, 13.  , 20.85, 10.42,  4.69,\n",
              "       13.61, 23.69, 18.05,  8.81,  5.64, 12.86, 10.24, 11.34,  7.53,\n",
              "        3.53,  7.83, 10.36,  2.47, 10.4 , 12.73,  4.56,  9.5 , 19.77,\n",
              "       12.93, 18.68,  8.05,  7.7 , 17.64, 13.45,  8.01, 23.34, 12.67,\n",
              "        5.49, 21.32, 16.51, 15.7 ,  3.01,  6.92, 16.94, 26.77, 18.33,\n",
              "       14.76, 18.13, 16.9 , 14.79,  9.97, 29.93,  3.11, 12.27, 14.  ,\n",
              "        4.32, 17.21, 10.11, 27.71, 17.93,  6.53, 10.58, 15.55,  8.79,\n",
              "       24.08,  9.42,  7.85, 34.02, 15.76, 21.08, 10.11, 14.1 , 10.16,\n",
              "        9.51, 10.53, 30.81, 11.64,  3.13, 17.28,  4.82,  6.27, 18.8 ,\n",
              "       11.25, 11.69, 10.5 ,  6.21, 30.59, 13.35,  5.91,  6.43,  9.16,\n",
              "       12.6 , 18.35,  7.79, 34.37, 23.97, 23.6 , 30.62, 17.58,  3.16,\n",
              "       16.65,  6.36, 25.41,  2.87, 15.84, 12.64, 18.06,  5.7 , 13.09,\n",
              "       22.74,  7.67, 10.21, 16.22,  4.59,  3.57,  7.39, 10.87, 12.34,\n",
              "        9.74,  6.75, 26.82, 13.04, 14.13,  6.65, 14.59, 15.37, 22.98,\n",
              "        8.05,  1.98, 19.92,  5.08, 12.03, 13.99,  5.33, 11.65, 13.15,\n",
              "       28.28, 19.52,  8.51,  5.98, 13.27, 15.17, 20.31, 17.79,  8.58,\n",
              "       18.66,  5.52, 11.28, 14.8 , 11.12,  5.5 ,  6.86,  7.79,  2.98,\n",
              "        9.64,  9.81,  7.22,  3.56, 10.97,  9.69, 12.79, 23.24, 24.91,\n",
              "        4.73, 12.67,  4.14,  5.77,  8.2 ,  9.38, 12.43, 19.78,  4.97,\n",
              "       21.32, 11.5 , 23.29,  4.56,  3.81, 16.29, 21.45, 17.09,  5.1 ,\n",
              "       11.98,  4.74,  3.76, 12.5 , 10.27, 14.09, 19.01,  3.95,  7.12,\n",
              "       12.4 , 26.45, 16.44,  9.67, 22.88,  6.68, 15.94, 12.14,  4.16,\n",
              "       17.11,  6.58,  9.55,  9.52, 10.29,  7.88,  4.61,  9.28,  7.56,\n",
              "       17.6 , 17.16, 11.32, 13.22, 11.66, 17.92, 11.1 ,  8.77, 16.59,\n",
              "        9.68,  5.28, 17.1 , 25.68,  7.18,  3.53,  6.05, 11.72,  6.47,\n",
              "        8.1 ,  7.54,  6.58, 14.44,  7.19, 22.6 ,  4.84, 18.76,  4.03,\n",
              "       13.15, 31.99,  7.39, 20.32, 16.96, 13.  ,  4.67, 24.39,  7.51,\n",
              "        6.57, 14.43, 12.92, 18.85, 19.88,  6.29,  4.59, 20.34,  5.68,\n",
              "       14.33,  9.04,  6.87,  6.93, 10.56, 14.27, 20.45,  9.09,  9.47,\n",
              "        5.49, 10.15,  9.14, 29.29, 14.1 , 13.11, 21.24,  8.47, 12.26,\n",
              "        9.71,  7.01,  9.08,  8.93,  9.93,  7.6 ,  3.92, 18.72,  9.97,\n",
              "       27.8 , 14.15,  3.76, 18.13, 15.69, 16.03,  7.26, 10.63,  6.15,\n",
              "       30.63,  8.23,  6.72,  9.5 , 17.73,  3.59,  4.08, 34.77,  8.16,\n",
              "        7.6 ,  6.62, 21.52, 18.46, 21.78, 18.03,  9.25, 24.16, 23.79,\n",
              "       24.1 , 27.26, 18.06, 17.19, 22.11,  2.94, 10.19, 13.33, 12.8 ,\n",
              "       30.81,  4.86, 11.74, 15.12,  9.29,  5.9 ,  8.05,  6.59, 23.98,\n",
              "       11.48,  6.07, 13.98,  6.72])"
            ]
          },
          "execution_count": 61,
          "metadata": {},
          "output_type": "execute_result"
        }
      ],
      "source": [
        "x_train"
      ]
    },
    {
      "cell_type": "code",
      "execution_count": null,
      "metadata": {
        "id": "dbmQ-ar-peRE",
        "outputId": "af2bdd1c-0d20-4181-bf59-aa3255132689"
      },
      "outputs": [
        {
          "data": {
            "text/plain": [
              "array([13.51, 15.03,  6.36, 11.41, 13.59,  9.88,  4.98,  9.45,  5.98,\n",
              "        4.7 , 10.74, 21.14, 13.34,  4.81, 11.45,  8.1 , 20.08, 16.23,\n",
              "        5.19, 14.52,  3.54, 23.09, 14.81,  6.73, 14.98, 12.13,  8.67,\n",
              "       14.67,  5.39, 16.14, 23.98, 13.83,  5.81, 12.87,  3.11, 17.27,\n",
              "       13.28,  6.36, 37.97,  5.03, 25.79, 14.19, 17.31, 14.66, 15.17,\n",
              "        4.21,  8.94, 14.81,  6.12, 16.74, 13.44, 12.12,  7.43,  3.95,\n",
              "        9.59, 26.64, 15.02, 14.64, 19.37, 15.39, 14.7 , 12.43,  5.57,\n",
              "       16.21,  9.1 , 10.45,  9.22, 13.44, 10.59,  4.38,  4.54, 10.13,\n",
              "       20.62,  5.99,  8.61,  7.34, 28.32, 14.37, 24.56, 13.27,  5.68,\n",
              "        7.44,  5.89, 10.26,  3.33, 15.71, 18.46, 12.04, 26.42, 19.31,\n",
              "       36.98,  8.43, 16.47,  7.14, 11.97, 27.38,  4.45, 17.27])"
            ]
          },
          "execution_count": 62,
          "metadata": {},
          "output_type": "execute_result"
        }
      ],
      "source": [
        "x_test"
      ]
    },
    {
      "cell_type": "code",
      "execution_count": null,
      "metadata": {
        "id": "6JC8EyGlpeRF",
        "outputId": "06032ac2-b1f2-4508-cfa2-b93a6e1f5dfc"
      },
      "outputs": [
        {
          "data": {
            "text/plain": [
              "array([ 602700.,  466200.,  407400.,  285600.,  665700.,  407400.,\n",
              "        455700.,  361200.,  737100.,  306600.,  588000.,  497700.,\n",
              "        344400.,  632100.,  399000.,  501900.,  428400.,  388500.,\n",
              "        504000.,  462000.,  489300.,  409500.,  485100.,  285600.,\n",
              "        350700.,  327600.,  485100.,  781200.,  361200.,  466200.,\n",
              "        266700.,  296100.,  617400.,  422100.,  499800.,  462000.,\n",
              "        170100.,  525000.,  487200.,  275100.,  632100.,  497700.,\n",
              "        367500.,  434700.,  132300.,  697200.,  457800.,  403200.,\n",
              "        506100.,  346500.,  430500.,  401100.,  289800.,  495600.,\n",
              "        371700.,  151200.,  302400.,  512400.,  569100.,  550200.,\n",
              "        281400.,  312900.,  453600.,  296100.,  436800.,  281400.,\n",
              "        300300.,  527100.,  443100.,  241500.,  457800.,  640500.,\n",
              "        405300.,  275100.,  201600.,  474600.,  501900.,  472500.,\n",
              "        407400.,  449400.,  592200.,  680400.,  407400.,  485100.,\n",
              "        875700.,  455700.,  441000.,  732900.,  462000.,  174300.,\n",
              "        422100.,  350700.,  382200.,  428400.,  304500.,  413700.,\n",
              "        443100.,  249900.,  361200.,  686700.,  401100.,  291900.,\n",
              "        298200.,  966000.,  627900.,  283500.,  117600.,  373800.,\n",
              "        422100.,  401100.,  365400.,  644700.,  426300.,  346500.,\n",
              "        924000.,  415800.,  459900.,  646800.,  218400.,  487200.,\n",
              "        277200.,  430500.,  558600.,  445200.,  407400.,  438900.,\n",
              "        199500.,  577500.,  676200.,  176400.,  384300.,  228900.,\n",
              "        315000.,  451500.,  478800.,  520800.,  367500.,  151200.,\n",
              "        476700.,  789600.,  310800.,  795900.,  600600.,  348600.,\n",
              "        651000.,  424200.,  483000.,  525000.,  105000.,  422100.,\n",
              "       1024800.,  510300.,  510300.,  403200.,  275100.,  756000.,\n",
              "        375900.,  147000.,  237300.,  214200.,  394800.,  913500.,\n",
              "        327600.,  485100.,  363300.,  764400.,  426300.,  338100.,\n",
              "        472500.,  602700.,  365400.,  176400.,  556500.,  405300.,\n",
              "        300300.,  743400.,  919800.,  569100.,  474600.,  445200.,\n",
              "        399000.,  434700.,  281400.,  304500.,  417900.,  596400.,\n",
              "        359100.,  428400.,  105000.,  693000.,  732900.,  178500.,\n",
              "        516600.,  338100.,  409500.,  760200.,  510300.,  392700.,\n",
              "        220500.,  359100.,  432600.,  464100.,  455700.,  245700.,\n",
              "        254100.,  312900.,  501900.,  409500.,  478800.,  382200.,\n",
              "        396900.,  483000.,  567000.,  489300.,  390600.,  672000.,\n",
              "        474600.,  525000.,  501900.,  783300.,  512400.,  602700.,\n",
              "        466200.,  291900.,  252000.,  661500.,  474600.,  940800.,\n",
              "        518700.,  462000.,  590100.,  359100.,  577500.,  472500.,\n",
              "        279300.,  340200.,  281400.,  625800., 1018500.,  417900.,\n",
              "        323400.,  392700.,  777000.,  441000.,  609000.,  953400.,\n",
              "        369600.,  436800.,  428400.,  266700.,  663600.,  577500.,\n",
              "        422100.,  182700.,  264600.,  470400.,  268800.,  672000.,\n",
              "        415800.,  499800.,  695100.,  317100.,  485100.,  445200.,\n",
              "        514500.,  424200.,  249900.,  655200.,  499800.,  835800.,\n",
              "        373800.,  245700.,  468300.,  449400.,  625800.,  451500.,\n",
              "        499800.,  441000.,  386400.,  396900.,  525000.,  396900.,\n",
              "        203700.,  501900.,  621600.,  697200.,  407400.,  701400.,\n",
              "        766500.,  491400.,  739200.,  336000.,  611100.,  266700.,\n",
              "        558600.,  487200.,  728700.,  621600.,  155400.,  489300.,\n",
              "        151200.,  380100.,  455700.,  493500.,  174300.,  480900.,\n",
              "        459900.,  365400.,  445200.,  323400.,  304500.,  516600.,\n",
              "        867300.,  283500.,  682500.,  352800.,  495600.,  485100.,\n",
              "        758100.,  388500.,  426300.,  315000.,  415800.,  525000.,\n",
              "        506100.,  430500.,  453600.,  247800.,  384300.,  449400.,\n",
              "        279300.,  417900.,  411600.,  560700.,  525000.,  432600.,\n",
              "        596400.,  577500.,  468300.,  980700.,  319200.,  405300.,\n",
              "        289800.,  420000.,  661500.,  296100.,  214200.,  470400.,\n",
              "        905100.,  390600.,  483000.,  184800.,  462000.,  508200.,\n",
              "        525000.,  319200.,  520800.,  699300.,  289800.,  480900.,\n",
              "        632100.,  726600.,  231000.,  373800.,  214200.,  306600.,\n",
              "        438900.,  294000.,  226800.,  279300.,  329700.,  319200.,\n",
              "        340200.,  220500.,  701400.,  436800.,  485100.,  386400.,\n",
              "        302400.,  695100.,  388500.,  357000.,  392700.,  512400.,\n",
              "        609000.,  529200.,  247800.,  476700.,  520800.,  554400.,\n",
              "        520800.])"
            ]
          },
          "execution_count": 63,
          "metadata": {},
          "output_type": "execute_result"
        }
      ],
      "source": [
        "y_train"
      ]
    },
    {
      "cell_type": "code",
      "execution_count": null,
      "metadata": {
        "id": "gtkTYSMmpeRF",
        "outputId": "01da5980-32d4-4fbc-edd3-edf25edbab4e"
      },
      "outputs": [
        {
          "data": {
            "text/plain": [
              "array([ 489300.,  386400.,  497700.,  420000.,  514500.,  455700.,\n",
              "        504000.,  760200.,  480900.,  585900.,  483000.,  413700.,\n",
              "        432600.,  743400.,  432600.,  462000.,  342300.,  312900.,\n",
              "        497700.,  228900.,  898800.,  420000.,  449400.,  466200.,\n",
              "        401100.,  585900.,  554400.,  367500.,  732900.,  275100.,\n",
              "        405300.,  411600.,  531300.,  411600.,  888300.,  338100.,\n",
              "        411600.,  663600.,  289800.,  653100.,  157500.,  417900.,\n",
              "        327600.,  512400.,  289800.,  812700.,  449400.,  348600.,\n",
              "        525000.,  373800.,  405300.,  321300.,  506100., 1014300.,\n",
              "        709800.,  218400.,  327600.,  352800.,  262500.,  378000.,\n",
              "        420000.,  480900.,  432600.,  394800.,  426300.,  478800.,\n",
              "        411600.,  315000.,  432600.,  611100.,  478800.,  518700.,\n",
              "        184800.,  514500.,  636300.,  474600.,  373800.,  462000.,\n",
              "        258300.,  396900.,  466200.,  518700.,  558600.,  382200.,\n",
              "        598500.,  455700.,  388500.,  445200.,  327600.,  273000.,\n",
              "        147000.,  491400.,  409500.,  487200.,  420000.,  178500.,\n",
              "        690900.,  455700.])"
            ]
          },
          "execution_count": 64,
          "metadata": {},
          "output_type": "execute_result"
        }
      ],
      "source": [
        "y_test"
      ]
    },
    {
      "cell_type": "code",
      "execution_count": null,
      "metadata": {
        "id": "kPeErhhYpeRG",
        "outputId": "28b57a7c-27f6-40ce-a6e9-0819457f4d0f"
      },
      "outputs": [
        {
          "data": {
            "text/plain": [
              "LinearRegression()"
            ]
          },
          "execution_count": 65,
          "metadata": {},
          "output_type": "execute_result"
        }
      ],
      "source": [
        "x_train = x_train.reshape(-1, 1)\n",
        "y_train = y_train.reshape(-1, 1)\n",
        "model.fit(x_train, y_train)"
      ]
    },
    {
      "cell_type": "code",
      "execution_count": null,
      "metadata": {
        "id": "TarAAmFFpeRH"
      },
      "outputs": [],
      "source": [
        "# Make predictions on the testing set\n",
        "y_pred = model.predict(x_test.reshape(-1, 1))"
      ]
    },
    {
      "cell_type": "markdown",
      "source": [
        "## Performance indicators"
      ],
      "metadata": {
        "id": "5WsnlCswrPID"
      }
    },
    {
      "cell_type": "code",
      "execution_count": null,
      "metadata": {
        "id": "UJnEq-D_peRH",
        "outputId": "59b4a84d-993a-4e44-e730-b84e38541935"
      },
      "outputs": [
        {
          "name": "stdout",
          "output_type": "stream",
          "text": [
            "Mean Squared Error (MSE): 11576317866.474096\n"
          ]
        }
      ],
      "source": [
        "mse = mean_squared_error(y_test, y_pred)\n",
        "print(\"Mean Squared Error (MSE):\", mse)"
      ]
    },
    {
      "cell_type": "code",
      "execution_count": null,
      "metadata": {
        "id": "ILrSayW3peRH",
        "outputId": "372aefa6-c0bf-4dd6-9d19-cf13635fe2ba"
      },
      "outputs": [
        {
          "name": "stdout",
          "output_type": "stream",
          "text": [
            "Root Mean Squared Error (RMSE): 107593.29842733746\n"
          ]
        }
      ],
      "source": [
        "rmse = np.sqrt(mse)\n",
        "print(\"Root Mean Squared Error (RMSE):\", rmse)"
      ]
    },
    {
      "cell_type": "code",
      "execution_count": null,
      "metadata": {
        "id": "VfY1htbDpeRI",
        "outputId": "381a24b7-30cd-4ae1-d31b-1f9943f0afaa"
      },
      "outputs": [
        {
          "name": "stdout",
          "output_type": "stream",
          "text": [
            "R-squared score: 0.5125112711111345\n"
          ]
        }
      ],
      "source": [
        "r2 = r2_score(y_test, y_pred)\n",
        "print(\"R-squared score:\", r2)"
      ]
    },
    {
      "cell_type": "markdown",
      "metadata": {
        "id": "3TTy9yaPpeRI"
      },
      "source": [
        "The R-squared score is higher for this model using LSTAT"
      ]
    },
    {
      "cell_type": "code",
      "execution_count": null,
      "metadata": {
        "id": "kEeF5djApeRJ",
        "outputId": "a01dccd7-6c5d-42a4-f90c-a1300d5c7c34"
      },
      "outputs": [
        {
          "name": "stdout",
          "output_type": "stream",
          "text": [
            "Intercept: [690301.27556009]\n",
            "Coefficients: [[-18220.97098828]]\n"
          ]
        }
      ],
      "source": [
        "print(\"Intercept:\", model.intercept_)\n",
        "print(\"Coefficients:\", model.coef_)"
      ]
    },
    {
      "cell_type": "markdown",
      "source": [
        "## Creating a line plot to visualize the relationship between the dependent variable (MEDV) and the independent variable (LSTAT) along with the predicted values from the model."
      ],
      "metadata": {
        "id": "55gW9qj2rH4X"
      }
    },
    {
      "cell_type": "code",
      "execution_count": null,
      "metadata": {
        "id": "MeXN-i6bpeRJ",
        "outputId": "51fabb5e-5fa2-4976-96c8-c87e0af8021c"
      },
      "outputs": [
        {
          "data": {
            "image/png": "[encoded data removed]",
            "text/plain": [
              "<Figure size 432x288 with 1 Axes>"
            ]
          },
          "metadata": {
            "needs_background": "light"
          },
          "output_type": "display_data"
        }
      ],
      "source": [
        "X_test_sorted = np.sort(x_test.reshape(-1, 1), axis=0)\n",
        "y_pred_sorted = model.predict(X_test_sorted)\n",
        "\n",
        "# Plotting the actual values\n",
        "plt.scatter(x_test, y_test, color='blue', label='Actual')\n",
        "\n",
        "# Plotting the predicted values\n",
        "plt.plot(X_test_sorted, y_pred_sorted, color='red', label='Predicted')\n",
        "\n",
        "# Adding labels and title\n",
        "plt.title('Relationship between MEDV and RM with Predicted Values')\n",
        "plt.xlabel('RM (Average Number of Rooms)')\n",
        "plt.ylabel('MEDV (Median Value of Homes)')\n",
        "plt.legend()\n",
        "\n",
        "# Display the plot\n",
        "plt.show()"
      ]
    },
    {
      "cell_type": "markdown",
      "source": [
        "# Assignment questions"
      ],
      "metadata": {
        "id": "tS-z0dZQrgGU"
      }
    },
    {
      "cell_type": "markdown",
      "source": [
        "## What is the relationship between the independent variable RM and the dependent variable MEDV in the Boston Housing dataset?\n",
        "\n",
        "---\n",
        "It's a correlation relationship with a value of 0.7 which is a signifocant value.\n"
      ],
      "metadata": {
        "id": "Jbm6qF85rnqm"
      }
    },
    {
      "cell_type": "markdown",
      "source": [
        "## How does the R-squared value of the model change when you use different independent variables?\n",
        "\n",
        "---\n",
        "It got higher after switching from the variable RM to the variable LSTAT\n"
      ],
      "metadata": {
        "id": "8_FXOEbXr9oH"
      }
    },
    {
      "cell_type": "markdown",
      "source": [
        "## What are the pros and cons of using a simple linear regression model?\n",
        "\n",
        "---\n",
        "\n",
        "\n",
        "**Pros:**\n",
        "1. Interpretability: Easy interpretation of the relationship between variables.\n",
        "2. Efficiency: Computationally efficient with only two parameters to estimate.\n",
        "3. Visualization: Simple visualization of the relationship using scatter plots.\n",
        "4. Initial Analysis: Useful for initial exploration and identifying potential predictors.\n",
        "\n",
        "**Cons:**\n",
        "1. Linearity Assumption: Assumes a linear relationship, which may not hold.\n",
        "2. Limited Flexibility: Unable to capture complex or nonlinear relationships.\n",
        "3. Outlier Sensitivity: Sensitive to outliers, affecting accuracy.\n",
        "4. Omitted Variable Bias: Ignores other factors that may influence the dependent variable."
      ],
      "metadata": {
        "id": "ZjCfJkJRsOxz"
      }
    }
  ],
  "metadata": {
    "kernelspec": {
      "display_name": "Python 3",
      "language": "python",
      "name": "python3"
    },
    "language_info": {
      "codemirror_mode": {
        "name": "ipython",
        "version": 3
      },
      "file_extension": ".py",
      "mimetype": "text/x-python",
      "name": "python",
      "nbconvert_exporter": "python",
      "pygments_lexer": "ipython3",
      "version": "3.8.3"
    },
    "colab": {
      "provenance": [],
      "toc_visible": true,
      "include_colab_link": true
    }
  },
  "nbformat": 4,
  "nbformat_minor": 0
}